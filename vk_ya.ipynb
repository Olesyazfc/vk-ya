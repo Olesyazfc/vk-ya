{
 "cells": [
  {
   "cell_type": "code",
   "execution_count": 8,
   "metadata": {},
   "outputs": [
    {
     "name": "stdout",
     "output_type": "stream",
     "text": [
      "[{'file_name': '15.jpg', 'size': 'x'}, {'file_name': '9.jpg', 'size': 'y'}, {'file_name': '4.jpg', 'size': 'y'}, {'file_name': '7.jpg', 'size': 'y'}, {'file_name': '7.1594036496.jpg', 'size': 'z'}]\n"
     ]
    }
   ],
   "source": [
    "import requests\n",
    "\n",
    "class VkYaUser:\n",
    "    def __init__(self, id, ya_token, token='958eb5d439726565e9333aa30e50e0f937ee432e927f0dbd541c541887d919a7c56f95c04217915c32008', version='5.131'):\n",
    "        self.params_vk = {\n",
    "            'access_token': token,\n",
    "            'v': version,\n",
    "            'user_ids': id    \n",
    "        }\n",
    "        self.params_ya = {\"overwrite\": \"true\"}\n",
    "        self.headers = {\n",
    "            'Content-Type': 'application/json',\n",
    "            'Authorization': 'OAuth {}'.format(ya_token),\n",
    "        }\n",
    "        self.list_photos = []\n",
    "        self.likes_list = []\n",
    "        self.photos_url = []\n",
    "\n",
    "    def get_vk(self):\n",
    "        vk_url_get = 'https://api.vk.com/method/photos.get'\n",
    "        params = {'album_id': 'profile', 'extended': 'likes', 'photo_sizes': 1, 'count': 5}\n",
    "\n",
    "        response = requests.get(vk_url_get, params = params | self.params_vk)\n",
    "        photos = response.json()['response']['items']        \n",
    "\n",
    "        for photos_sizes in photos:\n",
    "            likes = str(photos_sizes['likes']['count'])\n",
    "            date = str(photos_sizes['date'])\n",
    "            photo_size = photos_sizes['sizes'][-1]\n",
    "            photo_url = photo_size['url']\n",
    "            size = photo_size['type']\n",
    "            \n",
    "            if likes not in self.likes_list:\n",
    "                file_name = f'{likes}.jpg'\n",
    "            else:\n",
    "                file_name = f'{likes}.{date}.jpg'\n",
    "            self.likes_list.append(likes)\n",
    "            dict_photo = {'file_name': file_name, 'size': size}\n",
    "            self.list_photos.append(dict_photo)\n",
    "            dict_url = {file_name: photo_url}\n",
    "            self.photos_url.append(dict_url)\n",
    "    \n",
    "    def put_ya(self):\n",
    "        ya_url = 'https://cloud-api.yandex.net/v1/disk/resources/upload'\n",
    "        self.get_vk()\n",
    "        for photos in self.photos_url:\n",
    "            photo = list(photos.items())[0]\n",
    "            params = {'url': photo[1],'path': f'netology/{photo[0]}'}\n",
    "            response = requests.post(ya_url, headers=self.headers , params=self.params_ya | params)\n",
    "        return self.list_photos\n",
    "\n",
    "\n",
    "\n",
    "if __name__ == '__main__':\n",
    "    ya_token = 'AQAAAABdP1gCAADLWzET0A8pA0Xvps5aFVoeNjM'\n",
    "    vk_id = 'begemot_korovin'\n",
    "    uploader = VkYaUser(vk_id, ya_token)\n",
    "    print(uploader.put_ya())\n",
    "\n",
    "\n",
    "\n",
    "\n"
   ]
  },
  {
   "cell_type": "code",
   "execution_count": null,
   "metadata": {},
   "outputs": [],
   "source": []
  }
 ],
 "metadata": {
  "interpreter": {
   "hash": "b89b5cfaba6639976dc87ff2fec6d58faec662063367e2c229c520fe71072417"
  },
  "kernelspec": {
   "display_name": "Python 3.10.0 64-bit",
   "language": "python",
   "name": "python3"
  },
  "language_info": {
   "codemirror_mode": {
    "name": "ipython",
    "version": 3
   },
   "file_extension": ".py",
   "mimetype": "text/x-python",
   "name": "python",
   "nbconvert_exporter": "python",
   "pygments_lexer": "ipython3",
   "version": "3.10.0"
  },
  "orig_nbformat": 4
 },
 "nbformat": 4,
 "nbformat_minor": 2
}
